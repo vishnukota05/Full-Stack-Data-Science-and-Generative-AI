{
 "cells": [
  {
   "cell_type": "markdown",
   "id": "cbdda2b8-21a4-4bd7-acfd-19e76fcabfbd",
   "metadata": {},
   "source": [
    "# function \n",
    "\n",
    "- why do we need function lets understan one scenario you might be workion on simple or complex project\n",
    "- when you work on complex project break down complex project to smaller task . \n",
    "- when you talk about smaller task of course you need to writing multiple statement.\n",
    "- e.g if you want to operate payment operation in that you need to multiple statement all that statement keep it together & re useable later. \n",
    "- all the statment of the tasks are stays together thats why we are creation function "
   ]
  },
  {
   "cell_type": "markdown",
   "id": "94f5af25-1dd9-4833-8610-ee29d2f41128",
   "metadata": {},
   "source": [
    "# FUNCTION -->\n",
    "- Inbuild function  -- print(), type(), id(), sqrt(), max(), min(), sqrt(), ceil(),  etc\n",
    "- User defined function \n",
    "- function is collection of statement\n",
    "- 2 main property of the function is -- define the function & calling the function \n",
    "- function always define with def & function always declares as ()\n",
    "difference between variable & function || a - variable || b() - function "
   ]
  },
  {
   "cell_type": "code",
   "execution_count": 1,
   "id": "9c68a576-522e-4173-9cce-19d30b1b5b58",
   "metadata": {},
   "outputs": [],
   "source": [
    "def nit():\n",
    "    print('7pm very very very very very smart but some of them lazy')"
   ]
  },
  {
   "cell_type": "code",
   "execution_count": 2,
   "id": "69394cb5-d287-46fd-835a-e2a6f542985c",
   "metadata": {},
   "outputs": [
    {
     "name": "stdout",
     "output_type": "stream",
     "text": [
      "7pm very very very very very smart but some of them lazy\n"
     ]
    }
   ],
   "source": [
    "def nit():\n",
    "    \n",
    "    print('7pm very very very very very smart but some of them lazy')\n",
    "    \n",
    "nit()"
   ]
  },
  {
   "cell_type": "code",
   "execution_count": 3,
   "id": "791faef5-b577-4d48-9277-4254c2291614",
   "metadata": {},
   "outputs": [
    {
     "name": "stdout",
     "output_type": "stream",
     "text": [
      "7pm team very very very very very smart\n",
      "7pm team never upload the task in linkedin & google classroom\n",
      "7pm team you need to showcase talent to the world by create linkedin portfolio\n"
     ]
    }
   ],
   "source": [
    "def nit():\n",
    "    \n",
    "    print('7pm team very very very very very smart' )\n",
    "    print(\"7pm team never upload the task in linkedin & google classroom\")\n",
    "    print(\"7pm team you need to showcase talent to the world by create linkedin portfolio\")\n",
    "    \n",
    "    \n",
    "nit()"
   ]
  },
  {
   "cell_type": "code",
   "execution_count": 4,
   "id": "d13c6d1c-5d23-49fb-b4fe-8611f41a01e3",
   "metadata": {},
   "outputs": [
    {
     "name": "stdout",
     "output_type": "stream",
     "text": [
      "7pm team very very very very very smart\n",
      "7pm team never upload the task in linkedin & google classroom\n",
      "7pm team you need to showcase talent to the world by create linkedin portfolio\n",
      "7pm team very very very very very smart\n",
      "7pm team never upload the task in linkedin & google classroom\n",
      "7pm team you need to showcase talent to the world by create linkedin portfolio\n",
      "7pm team very very very very very smart\n",
      "7pm team never upload the task in linkedin & google classroom\n",
      "7pm team you need to showcase talent to the world by create linkedin portfolio\n"
     ]
    }
   ],
   "source": [
    "def nit(): \n",
    "    print('7pm team very very very very very smart' )\n",
    "    print(\"7pm team never upload the task in linkedin & google classroom\")\n",
    "    print(\"7pm team you need to showcase talent to the world by create linkedin portfolio\")\n",
    "\n",
    "nit()\n",
    "\n",
    "def nit():\n",
    "    \n",
    "    print('7pm team very very very very very smart' )\n",
    "    print(\"7pm team never upload the task in linkedin & google classroom\")\n",
    "    print(\"7pm team you need to showcase talent to the world by create linkedin portfolio\")\n",
    "    \n",
    " \n",
    "nit()\n",
    "\n",
    "def nit():\n",
    "    \n",
    "    print('7pm team very very very very very smart' )\n",
    "    print(\"7pm team never upload the task in linkedin & google classroom\")\n",
    "    print(\"7pm team you need to showcase talent to the world by create linkedin portfolio\")\n",
    "    \n",
    "    \n",
    "nit()"
   ]
  },
  {
   "cell_type": "code",
   "execution_count": 6,
   "id": "fa7c41df-e850-4082-9a7d-9a62666836dd",
   "metadata": {},
   "outputs": [
    {
     "name": "stdout",
     "output_type": "stream",
     "text": [
      "7pm team very very very very very smart\n",
      "7pm team never upload the task in linkedin & google classroom\n",
      "7pm team you need to showcase talent to the world by create linkedin portfolio\n",
      "7pm team very very very very very smart\n",
      "7pm team never upload the task in linkedin & google classroom\n",
      "7pm team you need to showcase talent to the world by create linkedin portfolio\n",
      "7pm team very very very very very smart\n",
      "7pm team never upload the task in linkedin & google classroom\n",
      "7pm team you need to showcase talent to the world by create linkedin portfolio\n"
     ]
    }
   ],
   "source": [
    "def nit():\n",
    "    \n",
    "    print('7pm team very very very very very smart' )\n",
    "    print(\"7pm team never upload the task in linkedin & google classroom\")\n",
    "    print(\"7pm team you need to showcase talent to the world by create linkedin portfolio\")\n",
    "    \n",
    "    \n",
    "nit()\n",
    "nit()\n",
    "nit()\n"
   ]
  },
  {
   "cell_type": "code",
   "execution_count": 7,
   "id": "58c7dbbf-335e-4b18-9ce9-a97d3fddf7dc",
   "metadata": {},
   "outputs": [
    {
     "name": "stdout",
     "output_type": "stream",
     "text": [
      "7pm team very very very very very smart\n",
      "7pm team never upload the task in linkedin & google classroom\n",
      "7pm team you need to showcase talent to the world by create linkedin portfolio\n",
      "7pm batch team need to apply jobs as soon as possible\n",
      "if you are very hard work i will share all previous watch ans apply\n"
     ]
    }
   ],
   "source": [
    "def nit():\n",
    "    print('7pm team very very very very very smart' )\n",
    "    print(\"7pm team never upload the task in linkedin & google classroom\")\n",
    "    print(\"7pm team you need to showcase talent to the world by create linkedin portfolio\")\n",
    "nit()\n",
    "\n",
    "\n",
    "def placment():\n",
    "    print('7pm batch team need to apply jobs as soon as possible')\n",
    "    print('if you are very hard work i will share all previous watch ans apply')\n",
    "placment()"
   ]
  },
  {
   "cell_type": "code",
   "execution_count": 11,
   "id": "abedbada-45e3-4da3-8bd5-cb1459804bb4",
   "metadata": {},
   "outputs": [
    {
     "name": "stdout",
     "output_type": "stream",
     "text": [
      "7pm team very very very very very smart\n",
      "7pm team never upload the task in linkedin & google classroom\n",
      "7pm team you need to showcase talent to the world by create linkedin portfolio\n",
      "7pm batch team need to apply jobs as soon as possible\n",
      "if you are very hard work i will share all previous watch ans apply\n"
     ]
    }
   ],
   "source": [
    "def nit():\n",
    "    print('7pm team very very very very very smart' )\n",
    "    print(\"7pm team never upload the task in linkedin & google classroom\")\n",
    "    print(\"7pm team you need to showcase talent to the world by create linkedin portfolio\")\n",
    "\n",
    "def placment():\n",
    "    print('7pm batch team need to apply jobs as soon as possible')\n",
    "    print('if you are very hard work i will share all previous watch ans apply')\n",
    "    \n",
    "## ==================\n",
    "\n",
    "nit()\n",
    "\n",
    "placment()\n",
    "\n",
    "#hello()"
   ]
  },
  {
   "cell_type": "code",
   "execution_count": 14,
   "id": "ff5bf599-30ba-4ae3-aaa3-423612f08f13",
   "metadata": {},
   "outputs": [
    {
     "name": "stdout",
     "output_type": "stream",
     "text": [
      "11\n",
      "-1\n"
     ]
    }
   ],
   "source": [
    "def add(x,y):\n",
    "    \n",
    "    c=x+y\n",
    "    print(c)\n",
    "   \n",
    "    \n",
    "add(5,6)"
   ]
  },
  {
   "cell_type": "code",
   "execution_count": 16,
   "id": "9285c9a1-9007-41ee-a1fa-c48e8df31e38",
   "metadata": {},
   "outputs": [
    {
     "name": "stdout",
     "output_type": "stream",
     "text": [
      "11\n",
      "\n",
      "7pm batch team need to apply jobs as soon as possible\n",
      "if you are very hard work i will share all previous watch ans apply\n"
     ]
    }
   ],
   "source": [
    "def add(x,y):\n",
    "    c=x+y\n",
    "    print(c)\n",
    "\n",
    "def placment():\n",
    "    print('7pm batch team need to apply jobs as soon as possible')\n",
    "    print('if you are very hard work i will share all previous watch ans apply')\n",
    "\n",
    "add(5,6)\n",
    "\n",
    "print()\n",
    "\n",
    "\n",
    "placment()\n"
   ]
  },
  {
   "cell_type": "code",
   "execution_count": 17,
   "id": "dd8bfced-9695-4fbb-a21f-b96e2ac76d61",
   "metadata": {},
   "outputs": [
    {
     "name": "stdout",
     "output_type": "stream",
     "text": [
      "9\n"
     ]
    }
   ],
   "source": [
    "def add(x,y):\n",
    "    c=x+y\n",
    "    return c\n",
    "\n",
    "result = add(5,4)\n",
    "print(result) "
   ]
  },
  {
   "cell_type": "code",
   "execution_count": 18,
   "id": "f97378af-c65a-4bbf-98d4-021d49d66d58",
   "metadata": {},
   "outputs": [
    {
     "name": "stdout",
     "output_type": "stream",
     "text": [
      "hello\n",
      "good noon\n",
      "9\n"
     ]
    }
   ],
   "source": [
    "def greet():\n",
    "    print('hello')\n",
    "    print('good noon')\n",
    "greet()\n",
    "\n",
    "def add(x,y):\n",
    "    c=x+y\n",
    "    return c\n",
    "\n",
    "result = add(5,4)\n",
    "print(result) "
   ]
  },
  {
   "cell_type": "code",
   "execution_count": 19,
   "id": "ee7067b5-37ce-4f34-b03b-a2e6e3711039",
   "metadata": {},
   "outputs": [
    {
     "data": {
      "text/plain": [
       "(9, -1)"
      ]
     },
     "execution_count": 19,
     "metadata": {},
     "output_type": "execute_result"
    }
   ],
   "source": [
    "def add_sub(x,y): # what if i want to return 2 values add_sub & i want to return 2 values & function can accept multiple value \n",
    "    c= x+y\n",
    "    d= x-y\n",
    "    return c, d \n",
    "    \n",
    "add_sub(4,5)"
   ]
  },
  {
   "cell_type": "code",
   "execution_count": 21,
   "id": "e3789c94-c0bc-46fa-9b31-205a1afc9459",
   "metadata": {},
   "outputs": [
    {
     "name": "stdout",
     "output_type": "stream",
     "text": [
      "(9, -1)\n",
      "<class 'tuple'>\n"
     ]
    }
   ],
   "source": [
    "def add_sub(x,y): # what if i want to return 2 values add_sub & i want to return 2 values & function can accept multiple value \n",
    "    c= x+y\n",
    "    d= x-y\n",
    "    return c, d\n",
    "    \n",
    "result = add_sub(4,5)\n",
    "\n",
    "print(result)\n",
    "print(type(result))"
   ]
  },
  {
   "cell_type": "code",
   "execution_count": 22,
   "id": "1d5d4952-75c7-4643-a362-c37685cfd30f",
   "metadata": {},
   "outputs": [
    {
     "name": "stdout",
     "output_type": "stream",
     "text": [
      "9 1\n",
      "<class 'int'>\n",
      "<class 'int'>\n"
     ]
    }
   ],
   "source": [
    "def add_sub(x,y):\n",
    "    c= x+y\n",
    "    d= x-y\n",
    "    return c, d\n",
    "\n",
    "result1,result2 = add_sub(5,4)\n",
    "\n",
    "print(result1,result2)\n",
    "\n",
    "print(type(result1))\n",
    "print(type(result2))"
   ]
  },
  {
   "cell_type": "code",
   "execution_count": null,
   "id": "c99b6394-dcbf-4ce0-92d0-ccec650cc843",
   "metadata": {},
   "outputs": [],
   "source": []
  }
 ],
 "metadata": {
  "kernelspec": {
   "display_name": "Python 3 (ipykernel)",
   "language": "python",
   "name": "python3"
  },
  "language_info": {
   "codemirror_mode": {
    "name": "ipython",
    "version": 3
   },
   "file_extension": ".py",
   "mimetype": "text/x-python",
   "name": "python",
   "nbconvert_exporter": "python",
   "pygments_lexer": "ipython3",
   "version": "3.11.7"
  }
 },
 "nbformat": 4,
 "nbformat_minor": 5
}
