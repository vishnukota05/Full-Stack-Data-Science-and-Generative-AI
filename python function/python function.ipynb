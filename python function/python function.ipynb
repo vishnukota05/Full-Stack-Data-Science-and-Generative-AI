{
 "cells": [
  {
   "cell_type": "markdown",
   "id": "cbdda2b8-21a4-4bd7-acfd-19e76fcabfbd",
   "metadata": {},
   "source": [
    "# function \n",
    "\n",
    "- why do we need function lets understan one scenario you might be workion on simple or complex project\n",
    "- when you work on complex project break down complex project to smaller task . \n",
    "- when you talk about smaller task of course you need to writing multiple statement.\n",
    "- e.g if you want to operate payment operation in that you need to multiple statement all that statement keep it together & re useable later. \n",
    "- all the statment of the tasks are stays together thats why we are creation function "
   ]
  },
  {
   "cell_type": "markdown",
   "id": "94f5af25-1dd9-4833-8610-ee29d2f41128",
   "metadata": {},
   "source": [
    "# FUNCTION -->\n",
    "- Inbuild function  -- print(), type(), id(), sqrt(), max(), min(), sqrt(), ceil(),  etc\n",
    "- User defined function \n",
    "- function is collection of statement\n",
    "- 2 main property of the function is -- define the function & calling the function \n",
    "- function always define with def & function always declares as ()\n",
    "difference between variable & function || a - variable || b() - function "
   ]
  },
  {
   "cell_type": "code",
   "execution_count": 1,
   "id": "9c68a576-522e-4173-9cce-19d30b1b5b58",
   "metadata": {},
   "outputs": [],
   "source": [
    "def nit():\n",
    "    print('7pm very very very very very smart but some of them lazy')"
   ]
  },
  {
   "cell_type": "code",
   "execution_count": 2,
   "id": "69394cb5-d287-46fd-835a-e2a6f542985c",
   "metadata": {},
   "outputs": [
    {
     "name": "stdout",
     "output_type": "stream",
     "text": [
      "7pm very very very very very smart but some of them lazy\n"
     ]
    }
   ],
   "source": [
    "def nit():\n",
    "    \n",
    "    print('7pm very very very very very smart but some of them lazy')\n",
    "    \n",
    "nit()"
   ]
  },
  {
   "cell_type": "code",
   "execution_count": 3,
   "id": "791faef5-b577-4d48-9277-4254c2291614",
   "metadata": {},
   "outputs": [
    {
     "name": "stdout",
     "output_type": "stream",
     "text": [
      "7pm team very very very very very smart\n",
      "7pm team never upload the task in linkedin & google classroom\n",
      "7pm team you need to showcase talent to the world by create linkedin portfolio\n"
     ]
    }
   ],
   "source": [
    "def nit():\n",
    "    \n",
    "    print('7pm team very very very very very smart' )\n",
    "    print(\"7pm team never upload the task in linkedin & google classroom\")\n",
    "    print(\"7pm team you need to showcase talent to the world by create linkedin portfolio\")\n",
    "    \n",
    "    \n",
    "nit()"
   ]
  },
  {
   "cell_type": "code",
   "execution_count": 4,
   "id": "d13c6d1c-5d23-49fb-b4fe-8611f41a01e3",
   "metadata": {},
   "outputs": [
    {
     "name": "stdout",
     "output_type": "stream",
     "text": [
      "7pm team very very very very very smart\n",
      "7pm team never upload the task in linkedin & google classroom\n",
      "7pm team you need to showcase talent to the world by create linkedin portfolio\n",
      "7pm team very very very very very smart\n",
      "7pm team never upload the task in linkedin & google classroom\n",
      "7pm team you need to showcase talent to the world by create linkedin portfolio\n",
      "7pm team very very very very very smart\n",
      "7pm team never upload the task in linkedin & google classroom\n",
      "7pm team you need to showcase talent to the world by create linkedin portfolio\n"
     ]
    }
   ],
   "source": [
    "def nit(): \n",
    "    print('7pm team very very very very very smart' )\n",
    "    print(\"7pm team never upload the task in linkedin & google classroom\")\n",
    "    print(\"7pm team you need to showcase talent to the world by create linkedin portfolio\")\n",
    "\n",
    "nit()\n",
    "\n",
    "def nit():\n",
    "    \n",
    "    print('7pm team very very very very very smart' )\n",
    "    print(\"7pm team never upload the task in linkedin & google classroom\")\n",
    "    print(\"7pm team you need to showcase talent to the world by create linkedin portfolio\")\n",
    "    \n",
    " \n",
    "nit()\n",
    "\n",
    "def nit():\n",
    "    \n",
    "    print('7pm team very very very very very smart' )\n",
    "    print(\"7pm team never upload the task in linkedin & google classroom\")\n",
    "    print(\"7pm team you need to showcase talent to the world by create linkedin portfolio\")\n",
    "    \n",
    "    \n",
    "nit()"
   ]
  },
  {
   "cell_type": "code",
   "execution_count": 6,
   "id": "fa7c41df-e850-4082-9a7d-9a62666836dd",
   "metadata": {},
   "outputs": [
    {
     "name": "stdout",
     "output_type": "stream",
     "text": [
      "7pm team very very very very very smart\n",
      "7pm team never upload the task in linkedin & google classroom\n",
      "7pm team you need to showcase talent to the world by create linkedin portfolio\n",
      "7pm team very very very very very smart\n",
      "7pm team never upload the task in linkedin & google classroom\n",
      "7pm team you need to showcase talent to the world by create linkedin portfolio\n",
      "7pm team very very very very very smart\n",
      "7pm team never upload the task in linkedin & google classroom\n",
      "7pm team you need to showcase talent to the world by create linkedin portfolio\n"
     ]
    }
   ],
   "source": [
    "def nit():\n",
    "    \n",
    "    print('7pm team very very very very very smart' )\n",
    "    print(\"7pm team never upload the task in linkedin & google classroom\")\n",
    "    print(\"7pm team you need to showcase talent to the world by create linkedin portfolio\")\n",
    "    \n",
    "    \n",
    "nit()\n",
    "nit()\n",
    "nit()\n"
   ]
  },
  {
   "cell_type": "code",
   "execution_count": 7,
   "id": "58c7dbbf-335e-4b18-9ce9-a97d3fddf7dc",
   "metadata": {},
   "outputs": [
    {
     "name": "stdout",
     "output_type": "stream",
     "text": [
      "7pm team very very very very very smart\n",
      "7pm team never upload the task in linkedin & google classroom\n",
      "7pm team you need to showcase talent to the world by create linkedin portfolio\n",
      "7pm batch team need to apply jobs as soon as possible\n",
      "if you are very hard work i will share all previous watch ans apply\n"
     ]
    }
   ],
   "source": [
    "def nit():\n",
    "    print('7pm team very very very very very smart' )\n",
    "    print(\"7pm team never upload the task in linkedin & google classroom\")\n",
    "    print(\"7pm team you need to showcase talent to the world by create linkedin portfolio\")\n",
    "nit()\n",
    "\n",
    "\n",
    "def placment():\n",
    "    print('7pm batch team need to apply jobs as soon as possible')\n",
    "    print('if you are very hard work i will share all previous watch ans apply')\n",
    "placment()"
   ]
  },
  {
   "cell_type": "code",
   "execution_count": 11,
   "id": "abedbada-45e3-4da3-8bd5-cb1459804bb4",
   "metadata": {},
   "outputs": [
    {
     "name": "stdout",
     "output_type": "stream",
     "text": [
      "7pm team very very very very very smart\n",
      "7pm team never upload the task in linkedin & google classroom\n",
      "7pm team you need to showcase talent to the world by create linkedin portfolio\n",
      "7pm batch team need to apply jobs as soon as possible\n",
      "if you are very hard work i will share all previous watch ans apply\n"
     ]
    }
   ],
   "source": [
    "def nit():\n",
    "    print('7pm team very very very very very smart' )\n",
    "    print(\"7pm team never upload the task in linkedin & google classroom\")\n",
    "    print(\"7pm team you need to showcase talent to the world by create linkedin portfolio\")\n",
    "\n",
    "def placment():\n",
    "    print('7pm batch team need to apply jobs as soon as possible')\n",
    "    print('if you are very hard work i will share all previous watch ans apply')\n",
    "    \n",
    "## ==================\n",
    "\n",
    "nit()\n",
    "\n",
    "placment()\n",
    "\n",
    "#hello()"
   ]
  },
  {
   "cell_type": "code",
   "execution_count": 14,
   "id": "ff5bf599-30ba-4ae3-aaa3-423612f08f13",
   "metadata": {},
   "outputs": [
    {
     "name": "stdout",
     "output_type": "stream",
     "text": [
      "11\n",
      "-1\n"
     ]
    }
   ],
   "source": [
    "def add(x,y):\n",
    "    \n",
    "    c=x+y\n",
    "    print(c)\n",
    "   \n",
    "    \n",
    "add(5,6)"
   ]
  },
  {
   "cell_type": "code",
   "execution_count": 16,
   "id": "9285c9a1-9007-41ee-a1fa-c48e8df31e38",
   "metadata": {},
   "outputs": [
    {
     "name": "stdout",
     "output_type": "stream",
     "text": [
      "11\n",
      "\n",
      "7pm batch team need to apply jobs as soon as possible\n",
      "if you are very hard work i will share all previous watch ans apply\n"
     ]
    }
   ],
   "source": [
    "def add(x,y):\n",
    "    c=x+y\n",
    "    print(c)\n",
    "\n",
    "def placment():\n",
    "    print('7pm batch team need to apply jobs as soon as possible')\n",
    "    print('if you are very hard work i will share all previous watch ans apply')\n",
    "\n",
    "add(5,6)\n",
    "\n",
    "print()\n",
    "\n",
    "\n",
    "placment()\n"
   ]
  },
  {
   "cell_type": "code",
   "execution_count": 17,
   "id": "dd8bfced-9695-4fbb-a21f-b96e2ac76d61",
   "metadata": {},
   "outputs": [
    {
     "name": "stdout",
     "output_type": "stream",
     "text": [
      "9\n"
     ]
    }
   ],
   "source": [
    "def add(x,y):\n",
    "    c=x+y\n",
    "    return c\n",
    "\n",
    "result = add(5,4)\n",
    "print(result) "
   ]
  },
  {
   "cell_type": "code",
   "execution_count": 18,
   "id": "f97378af-c65a-4bbf-98d4-021d49d66d58",
   "metadata": {},
   "outputs": [
    {
     "name": "stdout",
     "output_type": "stream",
     "text": [
      "hello\n",
      "good noon\n",
      "9\n"
     ]
    }
   ],
   "source": [
    "def greet():\n",
    "    print('hello')\n",
    "    print('good noon')\n",
    "greet()\n",
    "\n",
    "def add(x,y):\n",
    "    c=x+y\n",
    "    return c\n",
    "\n",
    "result = add(5,4)\n",
    "print(result) "
   ]
  },
  {
   "cell_type": "code",
   "execution_count": 19,
   "id": "ee7067b5-37ce-4f34-b03b-a2e6e3711039",
   "metadata": {},
   "outputs": [
    {
     "data": {
      "text/plain": [
       "(9, -1)"
      ]
     },
     "execution_count": 19,
     "metadata": {},
     "output_type": "execute_result"
    }
   ],
   "source": [
    "def add_sub(x,y): # what if i want to return 2 values add_sub & i want to return 2 values & function can accept multiple value \n",
    "    c= x+y\n",
    "    d= x-y\n",
    "    return c, d \n",
    "    \n",
    "add_sub(4,5)"
   ]
  },
  {
   "cell_type": "code",
   "execution_count": 21,
   "id": "e3789c94-c0bc-46fa-9b31-205a1afc9459",
   "metadata": {},
   "outputs": [
    {
     "name": "stdout",
     "output_type": "stream",
     "text": [
      "(9, -1)\n",
      "<class 'tuple'>\n"
     ]
    }
   ],
   "source": [
    "def add_sub(x,y): # what if i want to return 2 values add_sub & i want to return 2 values & function can accept multiple value \n",
    "    c= x+y\n",
    "    d= x-y\n",
    "    return c, d\n",
    "    \n",
    "result = add_sub(4,5)\n",
    "\n",
    "print(result)\n",
    "print(type(result))"
   ]
  },
  {
   "cell_type": "code",
   "execution_count": 22,
   "id": "1d5d4952-75c7-4643-a362-c37685cfd30f",
   "metadata": {},
   "outputs": [
    {
     "name": "stdout",
     "output_type": "stream",
     "text": [
      "9 1\n",
      "<class 'int'>\n",
      "<class 'int'>\n"
     ]
    }
   ],
   "source": [
    "def add_sub(x,y):\n",
    "    c= x+y\n",
    "    d= x-y\n",
    "    return c, d\n",
    "\n",
    "result1,result2 = add_sub(5,4)\n",
    "\n",
    "print(result1,result2)\n",
    "\n",
    "print(type(result1))\n",
    "print(type(result2))"
   ]
  },
  {
   "cell_type": "markdown",
   "id": "74427b08-b4a5-4bbb-8218-d7c2040fe3d3",
   "metadata": {},
   "source": [
    "# 14th -- functional argument\n",
    "    - formal argument\n",
    "    - actual argument\n",
    "    "
   ]
  },
  {
   "cell_type": "code",
   "execution_count": 3,
   "id": "465c8c5b-2f5d-4d1c-b17d-106e3102186e",
   "metadata": {},
   "outputs": [
    {
     "name": "stdout",
     "output_type": "stream",
     "text": [
      "11\n"
     ]
    }
   ],
   "source": [
    "def add(a,b): # a & b called formal argument\n",
    "    c = a+b\n",
    "    print(c)\n",
    "    \n",
    "add(5,6) #5 and 6 we called as actual argument"
   ]
  },
  {
   "cell_type": "code",
   "execution_count": 4,
   "id": "d6e08a2b-f719-4655-ab97-d591302067af",
   "metadata": {},
   "outputs": [
    {
     "name": "stdout",
     "output_type": "stream",
     "text": [
      "18\n"
     ]
    }
   ],
   "source": [
    "def add(a,b,d): # a & b called formal argument\n",
    "    c = a+b+d\n",
    "    print(c)\n",
    "    \n",
    "add(5,6,7) #5 and 6 we called as actual argument"
   ]
  },
  {
   "cell_type": "markdown",
   "id": "1ff543d4-d071-4ac4-a9cf-a267d4db698c",
   "metadata": {},
   "source": [
    "# actual argument is 4 part -->\n",
    "    - positional argument\n",
    "    - keyword argument\n",
    "    - defaul argument\n",
    "    - variable lenght argument "
   ]
  },
  {
   "cell_type": "code",
   "execution_count": 5,
   "id": "c99b6394-dcbf-4ce0-92d0-ccec650cc843",
   "metadata": {},
   "outputs": [
    {
     "name": "stdout",
     "output_type": "stream",
     "text": [
      "nit\n",
      "22\n"
     ]
    }
   ],
   "source": [
    "def person(name,age):\n",
    "    print(name)\n",
    "    print(age)\n",
    "    \n",
    "person('nit', 22)"
   ]
  },
  {
   "cell_type": "code",
   "execution_count": 9,
   "id": "af57d48b-d774-4050-80c9-3099d5d3545d",
   "metadata": {},
   "outputs": [
    {
     "ename": "TypeError",
     "evalue": "person() takes 2 positional arguments but 3 were given",
     "output_type": "error",
     "traceback": [
      "\u001b[1;31m---------------------------------------------------------------------------\u001b[0m",
      "\u001b[1;31mTypeError\u001b[0m                                 Traceback (most recent call last)",
      "Cell \u001b[1;32mIn[9], line 5\u001b[0m\n\u001b[0;32m      2\u001b[0m     \u001b[38;5;28mprint\u001b[39m(name)\n\u001b[0;32m      3\u001b[0m     \u001b[38;5;28mprint\u001b[39m(age)\n\u001b[1;32m----> 5\u001b[0m person(\u001b[38;5;124m'\u001b[39m\u001b[38;5;124mnit\u001b[39m\u001b[38;5;124m'\u001b[39m,\u001b[38;5;241m24\u001b[39m, \u001b[38;5;241m45\u001b[39m)\n",
      "\u001b[1;31mTypeError\u001b[0m: person() takes 2 positional arguments but 3 were given"
     ]
    }
   ],
   "source": [
    "def person(name,age):\n",
    "    print(name)\n",
    "    print(age)\n",
    "    \n",
    "person('nit',24, 45)"
   ]
  },
  {
   "cell_type": "code",
   "execution_count": 10,
   "id": "fc50e2a3-9d97-42f3-bfde-c7a36722b357",
   "metadata": {},
   "outputs": [
    {
     "name": "stdout",
     "output_type": "stream",
     "text": [
      "22\n",
      "nit\n"
     ]
    }
   ],
   "source": [
    "def person(name,age):\n",
    "    print(name)\n",
    "    print(age)\n",
    "    \n",
    "person(22,'nit')"
   ]
  },
  {
   "cell_type": "code",
   "execution_count": 13,
   "id": "b645244a-b4ec-4ee8-90bc-2ad724f9058b",
   "metadata": {},
   "outputs": [
    {
     "name": "stdout",
     "output_type": "stream",
     "text": [
      "22\n"
     ]
    },
    {
     "ename": "TypeError",
     "evalue": "unsupported operand type(s) for -: 'str' and 'int'",
     "output_type": "error",
     "traceback": [
      "\u001b[1;31m---------------------------------------------------------------------------\u001b[0m",
      "\u001b[1;31mTypeError\u001b[0m                                 Traceback (most recent call last)",
      "Cell \u001b[1;32mIn[13], line 5\u001b[0m\n\u001b[0;32m      2\u001b[0m     \u001b[38;5;28mprint\u001b[39m(name)\n\u001b[0;32m      3\u001b[0m     \u001b[38;5;28mprint\u001b[39m(age\u001b[38;5;241m-\u001b[39m\u001b[38;5;241m5\u001b[39m)\n\u001b[1;32m----> 5\u001b[0m person(\u001b[38;5;241m22\u001b[39m,\u001b[38;5;124m'\u001b[39m\u001b[38;5;124mnit\u001b[39m\u001b[38;5;124m'\u001b[39m)\n",
      "Cell \u001b[1;32mIn[13], line 3\u001b[0m, in \u001b[0;36mperson\u001b[1;34m(name, age)\u001b[0m\n\u001b[0;32m      1\u001b[0m \u001b[38;5;28;01mdef\u001b[39;00m \u001b[38;5;21mperson\u001b[39m(name,age):\n\u001b[0;32m      2\u001b[0m     \u001b[38;5;28mprint\u001b[39m(name)\n\u001b[1;32m----> 3\u001b[0m     \u001b[38;5;28mprint\u001b[39m(age\u001b[38;5;241m-\u001b[39m\u001b[38;5;241m5\u001b[39m)\n",
      "\u001b[1;31mTypeError\u001b[0m: unsupported operand type(s) for -: 'str' and 'int'"
     ]
    }
   ],
   "source": [
    "def person(name,age):\n",
    "    print(name)\n",
    "    print(age-5)\n",
    "    \n",
    "person(22,'nit')"
   ]
  },
  {
   "cell_type": "code",
   "execution_count": 21,
   "id": "a9202168-8a3e-420e-876f-2398d2791c43",
   "metadata": {},
   "outputs": [
    {
     "name": "stdout",
     "output_type": "stream",
     "text": [
      "nit\n",
      "17\n"
     ]
    }
   ],
   "source": [
    "def person(name,age):\n",
    "    print(name)\n",
    "    print(age-5)\n",
    "    \n",
    "person(age=22,name='nit')"
   ]
  },
  {
   "cell_type": "markdown",
   "id": "5e49de96-69d7-47c1-9ac1-3041ed965439",
   "metadata": {},
   "source": [
    "# keyword argument "
   ]
  },
  {
   "cell_type": "code",
   "execution_count": 23,
   "id": "a5659815-1593-49ca-91c8-660f630ce349",
   "metadata": {},
   "outputs": [
    {
     "name": "stdout",
     "output_type": "stream",
     "text": [
      "nit\n",
      "17\n",
      "hyd\n"
     ]
    }
   ],
   "source": [
    "def person(name,age, city):\n",
    "    print(name)\n",
    "    print(age-5)\n",
    "    print(city)\n",
    "    \n",
    "person(age=22,name='nit', city = 'hyd')"
   ]
  },
  {
   "cell_type": "markdown",
   "id": "6a23a396-7899-4e63-98d8-19ab5c2f24a3",
   "metadata": {},
   "source": [
    "# default argument"
   ]
  },
  {
   "cell_type": "code",
   "execution_count": 24,
   "id": "afff1274-e11c-41e2-a46b-f783b957ac44",
   "metadata": {},
   "outputs": [
    {
     "ename": "TypeError",
     "evalue": "person() missing 1 required positional argument: 'age'",
     "output_type": "error",
     "traceback": [
      "\u001b[1;31m---------------------------------------------------------------------------\u001b[0m",
      "\u001b[1;31mTypeError\u001b[0m                                 Traceback (most recent call last)",
      "Cell \u001b[1;32mIn[24], line 5\u001b[0m\n\u001b[0;32m      2\u001b[0m     \u001b[38;5;28mprint\u001b[39m(name)\n\u001b[0;32m      3\u001b[0m     \u001b[38;5;28mprint\u001b[39m(age)\n\u001b[1;32m----> 5\u001b[0m person(\u001b[38;5;124m'\u001b[39m\u001b[38;5;124mnit\u001b[39m\u001b[38;5;124m'\u001b[39m)\n",
      "\u001b[1;31mTypeError\u001b[0m: person() missing 1 required positional argument: 'age'"
     ]
    }
   ],
   "source": [
    "def person(name,age):\n",
    "    print(name)\n",
    "    print(age)\n",
    "    \n",
    "person('nit')"
   ]
  },
  {
   "cell_type": "code",
   "execution_count": 32,
   "id": "d238c404-f207-45b3-8a68-9b1b56050cd6",
   "metadata": {},
   "outputs": [
    {
     "name": "stdout",
     "output_type": "stream",
     "text": [
      "nit\n",
      "30\n"
     ]
    }
   ],
   "source": [
    "def person(name,age= 20):\n",
    "    print(name)\n",
    "    print(age)\n",
    "    \n",
    "person('nit', 30)"
   ]
  },
  {
   "cell_type": "code",
   "execution_count": 28,
   "id": "85822f8d-5edb-4431-b884-1b7f46d34b83",
   "metadata": {},
   "outputs": [
    {
     "name": "stdout",
     "output_type": "stream",
     "text": [
      "nit\n",
      "40\n"
     ]
    }
   ],
   "source": [
    "def person(name,age=18):\n",
    "    print(name)\n",
    "    print(age)\n",
    "    \n",
    "person('nit',40)"
   ]
  },
  {
   "cell_type": "markdown",
   "id": "9690fef7-3efd-4f89-a805-5c48c5683a4a",
   "metadata": {},
   "source": [
    "# Variable length "
   ]
  },
  {
   "cell_type": "code",
   "execution_count": 35,
   "id": "517c8bc6-056d-4c33-b1ab-d2e847627e77",
   "metadata": {},
   "outputs": [
    {
     "name": "stdout",
     "output_type": "stream",
     "text": [
      "15\n"
     ]
    }
   ],
   "source": [
    "def sum(a, b=10):\n",
    "    c = a+b\n",
    "    print(c)\n",
    "    \n",
    "sum(5) "
   ]
  },
  {
   "cell_type": "code",
   "execution_count": 38,
   "id": "244e042e-38a5-40f6-b030-66f7342edc9f",
   "metadata": {},
   "outputs": [
    {
     "ename": "TypeError",
     "evalue": "sum() takes 2 positional arguments but 4 were given",
     "output_type": "error",
     "traceback": [
      "\u001b[1;31m---------------------------------------------------------------------------\u001b[0m",
      "\u001b[1;31mTypeError\u001b[0m                                 Traceback (most recent call last)",
      "Cell \u001b[1;32mIn[38], line 5\u001b[0m\n\u001b[0;32m      2\u001b[0m     c \u001b[38;5;241m=\u001b[39m a\u001b[38;5;241m+\u001b[39mb\n\u001b[0;32m      3\u001b[0m     \u001b[38;5;28mprint\u001b[39m(c)\n\u001b[1;32m----> 5\u001b[0m \u001b[38;5;28msum\u001b[39m(\u001b[38;5;241m5\u001b[39m,\u001b[38;5;241m6\u001b[39m,\u001b[38;5;241m7\u001b[39m,\u001b[38;5;241m8\u001b[39m)\n",
      "\u001b[1;31mTypeError\u001b[0m: sum() takes 2 positional arguments but 4 were given"
     ]
    }
   ],
   "source": [
    "def sum(a, b):\n",
    "    c = a+b\n",
    "    print(c)\n",
    "    \n",
    "sum(5,6,7,8) "
   ]
  },
  {
   "cell_type": "code",
   "execution_count": 41,
   "id": "70e23493-de93-48bd-978b-f59a26c406e9",
   "metadata": {},
   "outputs": [
    {
     "ename": "TypeError",
     "evalue": "unsupported operand type(s) for +: 'int' and 'tuple'",
     "output_type": "error",
     "traceback": [
      "\u001b[1;31m---------------------------------------------------------------------------\u001b[0m",
      "\u001b[1;31mTypeError\u001b[0m                                 Traceback (most recent call last)",
      "Cell \u001b[1;32mIn[41], line 5\u001b[0m\n\u001b[0;32m      2\u001b[0m     c \u001b[38;5;241m=\u001b[39m a\u001b[38;5;241m+\u001b[39mb\n\u001b[0;32m      3\u001b[0m     \u001b[38;5;28mprint\u001b[39m(c)\n\u001b[1;32m----> 5\u001b[0m \u001b[38;5;28msum\u001b[39m(\u001b[38;5;241m5\u001b[39m,\u001b[38;5;241m6\u001b[39m,\u001b[38;5;241m7\u001b[39m,\u001b[38;5;241m8\u001b[39m)\n",
      "Cell \u001b[1;32mIn[41], line 2\u001b[0m, in \u001b[0;36msum\u001b[1;34m(a, *b)\u001b[0m\n\u001b[0;32m      1\u001b[0m \u001b[38;5;28;01mdef\u001b[39;00m \u001b[38;5;21msum\u001b[39m(a, \u001b[38;5;241m*\u001b[39mb):\n\u001b[1;32m----> 2\u001b[0m     c \u001b[38;5;241m=\u001b[39m a\u001b[38;5;241m+\u001b[39mb\n\u001b[0;32m      3\u001b[0m     \u001b[38;5;28mprint\u001b[39m(c)\n",
      "\u001b[1;31mTypeError\u001b[0m: unsupported operand type(s) for +: 'int' and 'tuple'"
     ]
    }
   ],
   "source": [
    "def sum(a, *b):\n",
    "    c = a+b\n",
    "    print(c)\n",
    "    \n",
    "sum(5,6,7,8) "
   ]
  },
  {
   "cell_type": "code",
   "execution_count": 42,
   "id": "dc07e140-f1d5-4fe4-8823-68744eb42304",
   "metadata": {},
   "outputs": [
    {
     "name": "stdout",
     "output_type": "stream",
     "text": [
      "<class 'int'>\n",
      "<class 'tuple'>\n"
     ]
    }
   ],
   "source": [
    "def sum(a, *b): # 1st argument is fixed but for 2nd argument\n",
    "    #c = a+b\n",
    "    print(type(a))\n",
    "    print(type(b))\n",
    "\n",
    "sum(5,6,7,8) "
   ]
  },
  {
   "cell_type": "code",
   "execution_count": 43,
   "id": "829ce2ae-e201-4fbf-aeb0-0a1081608712",
   "metadata": {},
   "outputs": [
    {
     "ename": "TypeError",
     "evalue": "unsupported operand type(s) for +: 'int' and 'tuple'",
     "output_type": "error",
     "traceback": [
      "\u001b[1;31m---------------------------------------------------------------------------\u001b[0m",
      "\u001b[1;31mTypeError\u001b[0m                                 Traceback (most recent call last)",
      "Cell \u001b[1;32mIn[43], line 5\u001b[0m\n\u001b[0;32m      2\u001b[0m     c \u001b[38;5;241m=\u001b[39m a\u001b[38;5;241m+\u001b[39mb\n\u001b[0;32m      3\u001b[0m     \u001b[38;5;28mprint\u001b[39m(c)\n\u001b[1;32m----> 5\u001b[0m \u001b[38;5;28msum\u001b[39m(\u001b[38;5;241m5\u001b[39m,\u001b[38;5;241m6\u001b[39m,\u001b[38;5;241m7\u001b[39m,\u001b[38;5;241m8\u001b[39m,\u001b[38;5;241m9\u001b[39m)\n",
      "Cell \u001b[1;32mIn[43], line 2\u001b[0m, in \u001b[0;36msum\u001b[1;34m(a, *b)\u001b[0m\n\u001b[0;32m      1\u001b[0m \u001b[38;5;28;01mdef\u001b[39;00m \u001b[38;5;21msum\u001b[39m(a, \u001b[38;5;241m*\u001b[39mb):\n\u001b[1;32m----> 2\u001b[0m     c \u001b[38;5;241m=\u001b[39m a\u001b[38;5;241m+\u001b[39mb\n\u001b[0;32m      3\u001b[0m     \u001b[38;5;28mprint\u001b[39m(c)\n",
      "\u001b[1;31mTypeError\u001b[0m: unsupported operand type(s) for +: 'int' and 'tuple'"
     ]
    }
   ],
   "source": [
    "def sum(a, *b):\n",
    "    c = a+b\n",
    "    print(c)\n",
    "    \n",
    "sum(5,6,7,8,9) "
   ]
  },
  {
   "cell_type": "code",
   "execution_count": null,
   "id": "241bee26-52be-4e93-9516-05536d1ff00a",
   "metadata": {},
   "outputs": [],
   "source": [
    "def sum(a, *b):\n",
    "    c = a+b\n",
    "    print(c)\n",
    "    \n",
    "sum(5,6,7,8) "
   ]
  },
  {
   "cell_type": "code",
   "execution_count": 44,
   "id": "3291bf44-f3ad-4b11-a329-0522191885dc",
   "metadata": {},
   "outputs": [
    {
     "name": "stdout",
     "output_type": "stream",
     "text": [
      "26\n"
     ]
    }
   ],
   "source": [
    "def sum(a, *b): # 1st argument is fixed & we fetch each value from the tuple & we can add them. \n",
    "    c = a   \n",
    "    for i in b:\n",
    "        c = c + i \n",
    "    print(c)\n",
    "        \n",
    "sum(5,6,7,8) "
   ]
  },
  {
   "cell_type": "code",
   "execution_count": 45,
   "id": "f09c8095-c74f-45f8-8325-a98f87dcc51e",
   "metadata": {},
   "outputs": [
    {
     "name": "stdout",
     "output_type": "stream",
     "text": [
      "314\n"
     ]
    }
   ],
   "source": [
    "def sum(a, *b): # 1st argument is fixed & we fetch each value from the tuple & we can add them. \n",
    "    c = a   \n",
    "    for i in b:\n",
    "        c = c + i \n",
    "    print(c)\n",
    "        \n",
    "sum(5,6,7,8,9, 10, 100, 24, 67, 78) "
   ]
  },
  {
   "cell_type": "code",
   "execution_count": 49,
   "id": "dc7e37d3-c3a7-4912-99e7-aff01901bfc0",
   "metadata": {},
   "outputs": [
    {
     "name": "stdout",
     "output_type": "stream",
     "text": [
      "21\n"
     ]
    }
   ],
   "source": [
    "def sum(a, *b): # 1st argument is fixed & we fetch each value from the tuple & we can add them. \n",
    "    c = 0   \n",
    "    for i in b:\n",
    "        c = c + i \n",
    "    print(c)\n",
    "        \n",
    "sum(5,6,7,8) "
   ]
  },
  {
   "cell_type": "markdown",
   "id": "a39c0b00-3937-4a44-be12-24d6a9da1c73",
   "metadata": {},
   "source": [
    "# KWARGS (kEYWORD ARGUMENT + VARIABLE LENGGHT ARGUMENT)"
   ]
  },
  {
   "cell_type": "code",
   "execution_count": 51,
   "id": "09dd182c-10f0-4e32-8124-5643424c7248",
   "metadata": {},
   "outputs": [],
   "source": [
    "def person():\n",
    "    person('ALEX', 36, 'JOHN', 987767)"
   ]
  },
  {
   "cell_type": "code",
   "execution_count": 52,
   "id": "8fad9d71-0ade-40dc-a31d-674d02ef97a6",
   "metadata": {},
   "outputs": [
    {
     "name": "stdout",
     "output_type": "stream",
     "text": [
      "ALEX\n",
      "(36, 'JOHN', 987767)\n"
     ]
    }
   ],
   "source": [
    "def person(name,*data):\n",
    "    print(name)\n",
    "    print(data)\n",
    "\n",
    "person('ALEX', 36, 'JOHN', 987767)\n",
    "\n",
    "#hear what is name - is it southcit or AAA thats why we assigned keywords varible arguments"
   ]
  },
  {
   "cell_type": "code",
   "execution_count": 53,
   "id": "45ae5620-38bc-4d8d-be31-9e94c3ace1dd",
   "metadata": {},
   "outputs": [
    {
     "ename": "TypeError",
     "evalue": "person() got an unexpected keyword argument 'age'",
     "output_type": "error",
     "traceback": [
      "\u001b[1;31m---------------------------------------------------------------------------\u001b[0m",
      "\u001b[1;31mTypeError\u001b[0m                                 Traceback (most recent call last)",
      "Cell \u001b[1;32mIn[53], line 5\u001b[0m\n\u001b[0;32m      2\u001b[0m     \u001b[38;5;28mprint\u001b[39m(\u001b[38;5;124m'\u001b[39m\u001b[38;5;124mname\u001b[39m\u001b[38;5;124m'\u001b[39m)\n\u001b[0;32m      3\u001b[0m     \u001b[38;5;28mprint\u001b[39m(data)\n\u001b[1;32m----> 5\u001b[0m person(\u001b[38;5;124m'\u001b[39m\u001b[38;5;124mALEX\u001b[39m\u001b[38;5;124m'\u001b[39m, age \u001b[38;5;241m=\u001b[39m \u001b[38;5;241m36\u001b[39m, home_place \u001b[38;5;241m=\u001b[39m\u001b[38;5;124m'\u001b[39m\u001b[38;5;124msouthcity\u001b[39m\u001b[38;5;124m'\u001b[39m, mob \u001b[38;5;241m=\u001b[39m\u001b[38;5;241m987767\u001b[39m)\n",
      "\u001b[1;31mTypeError\u001b[0m: person() got an unexpected keyword argument 'age'"
     ]
    }
   ],
   "source": [
    "def person(name,*data):\n",
    "    print('name')\n",
    "    print(data)\n",
    "\n",
    "person('ALEX', age = 36, home_place ='southcity', mob =987767)\n",
    "# we got error as keyword argument thats why we add another *"
   ]
  },
  {
   "cell_type": "code",
   "execution_count": 56,
   "id": "a79f7296-5035-407b-b814-def250b59a0f",
   "metadata": {},
   "outputs": [
    {
     "name": "stdout",
     "output_type": "stream",
     "text": [
      "name\n",
      "{'age': 36, 'home_place': 'southcity', 'mob': 987767}\n"
     ]
    }
   ],
   "source": [
    "def person(name, **data):\n",
    "    print('name')\n",
    "    print(data)\n",
    "\n",
    "person('ALEX', age = 36, home_place ='southcity', mob =987767)\n",
    "# we got error as keyword argument thats why we add another *"
   ]
  },
  {
   "cell_type": "code",
   "execution_count": 57,
   "id": "4f18db2b-67fa-4629-bf60-00fc89301777",
   "metadata": {},
   "outputs": [
    {
     "name": "stdout",
     "output_type": "stream",
     "text": [
      "name\n",
      "{'age': 36, 'home_place': 'southcity', 'mob': 987767, 'salary': 100000, 'comp': 'genpact'}\n"
     ]
    }
   ],
   "source": [
    "def person(name, **data):\n",
    "    print('name')\n",
    "    print(data)\n",
    "\n",
    "person('ALEX', age = 36, home_place ='southcity', mob =987767, salary = 100000, comp = 'genpact')\n",
    "# we got error as keyword argument thats why we add another *"
   ]
  },
  {
   "cell_type": "code",
   "execution_count": null,
   "id": "aa9b1563-0e65-4454-b3e7-0ecad0c7d339",
   "metadata": {},
   "outputs": [],
   "source": []
  }
 ],
 "metadata": {
  "kernelspec": {
   "display_name": "Python 3 (ipykernel)",
   "language": "python",
   "name": "python3"
  },
  "language_info": {
   "codemirror_mode": {
    "name": "ipython",
    "version": 3
   },
   "file_extension": ".py",
   "mimetype": "text/x-python",
   "name": "python",
   "nbconvert_exporter": "python",
   "pygments_lexer": "ipython3",
   "version": "3.11.7"
  }
 },
 "nbformat": 4,
 "nbformat_minor": 5
}
