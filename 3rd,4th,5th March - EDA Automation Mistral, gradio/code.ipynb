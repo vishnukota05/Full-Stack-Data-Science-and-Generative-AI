{
 "cells": [
  {
   "cell_type": "code",
   "execution_count": null,
   "metadata": {},
   "outputs": [],
   "source": [
    "#pip install pandas seaborn matplotlib gradio ollama"
   ]
  },
  {
   "cell_type": "code",
   "execution_count": null,
   "metadata": {},
   "outputs": [],
   "source": [
    "import pandas as pd\n",
    "import seaborn as sns\n",
    "import matplotlib.pyplot as plt\n",
    "\n",
    "# Load Titanic Dataset\n",
    "url = r\"C:\\Users\\A3MAX SOFTWARE TECH\\A VS CODE\\2025_WORKSHOP\\EDA_LLM\\titanic_ dataset_final.csv\"\n",
    "df = pd.read_csv(url)\n",
    "df"
   ]
  },
  {
   "cell_type": "code",
   "execution_count": null,
   "metadata": {},
   "outputs": [],
   "source": [
    "# Display dataset info\n",
    "print(df.describe())"
   ]
  },
  {
   "cell_type": "code",
   "execution_count": null,
   "metadata": {},
   "outputs": [],
   "source": [
    "# Missing Values Check\n",
    "print(\"\\nMissing Values:\\n\", df.isnull().sum())"
   ]
  },
  {
   "cell_type": "code",
   "execution_count": null,
   "metadata": {},
   "outputs": [],
   "source": [
    "# Survival Rate Visualization\n",
    "sns.countplot(x='Survived', data=df)\n",
    "plt.title(\"Survival Count\")\n",
    "plt.show()"
   ]
  },
  {
   "cell_type": "code",
   "execution_count": null,
   "metadata": {},
   "outputs": [],
   "source": [
    "import ollama\n",
    "\n",
    "def generate_insights(df_summary):\n",
    "    prompt = f\"Analyze the dataset summary and provide insights:\\n\\n{df_summary}\"\n",
    "    response = ollama.chat(model=\"mistral\", messages=[{\"role\": \"user\", \"content\": prompt}])\n",
    "    return response['message']['content']\n",
    "\n",
    "# Generate AI Insights\n",
    "summary = df.describe().to_string()\n",
    "insights = generate_insights(summary)\n",
    "print(\"\\n🔹 AI-Generated Insights:\\n\", insights)"
   ]
  },
  {
   "cell_type": "code",
   "execution_count": null,
   "metadata": {},
   "outputs": [],
   "source": [
    "import gradio as gr\n",
    "\n",
    "def eda_analysis(file):\n",
    "    df = pd.read_csv(file.name)\n",
    "    summary = df.describe().to_string()\n",
    "    insights = generate_insights(summary)\n",
    "    return insights\n",
    "\n",
    "# Create Web Interface\n",
    "demo = gr.Interface(fn=eda_analysis, inputs=\"file\", outputs=\"text\", title=\"AI-Powered EDA with Mistral\")\n",
    "\n",
    "# Launch App\n",
    "demo.launch(share=True)  # Use share=True for Google Colab\n"
   ]
  }
 ],
 "metadata": {
  "kernelspec": {
   "display_name": "base",
   "language": "python",
   "name": "python3"
  },
  "language_info": {
   "codemirror_mode": {
    "name": "ipython",
    "version": 3
   },
   "file_extension": ".py",
   "mimetype": "text/x-python",
   "name": "python",
   "nbconvert_exporter": "python",
   "pygments_lexer": "ipython3",
   "version": "3.11.7"
  }
 },
 "nbformat": 4,
 "nbformat_minor": 2
}
